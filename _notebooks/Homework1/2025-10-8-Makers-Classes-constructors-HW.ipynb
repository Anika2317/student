{
 "cells": [
  {
   "cell_type": "raw",
   "id": "f46d5103",
   "metadata": {
    "vscode": {
     "languageId": "raw"
    }
   },
   "source": [
    "---\n",
    "layout: post\n",
    "title: Classes and Constructors Homework\n",
    "description:  Classes and Constructors Homework\n",
    "categories: [Javascript, Homework]\n",
    "permalink: /classes-constructors-HW\n",
    "author: Makers\n",
    "---"
   ]
  },
  {
   "cell_type": "markdown",
   "id": "b0f73322",
   "metadata": {},
   "source": [
    "## <u>JavaScript Classes and Constructors Homework<u>\n",
    "By now you should have a decent grasp of classes and constructors, and how to make and build one. The following exercises should help you solidify your understanding of classes and constructors in JavaScript."
   ]
  },
  {
   "cell_type": "markdown",
   "id": "4be7bd0a",
   "metadata": {
    "vscode": {
     "languageId": "javascript"
    }
   },
   "source": [
    "## Popcorn Hack 1\n",
    "1. The class TennisPlayer has been defined for you. Create a constructor with the arguements name, rank, and rankPoints.\n",
    "2. Call the class with the arguments Novak Djokovic, 1, 16000. \n",
    "3. Add one or more of the following arguments to the initial constructor: age, tournamentsPlayed, titlesWon. Add this as part of the profile output."
   ]
  },
  {
   "cell_type": "code",
   "execution_count": 7,
   "id": "7399ab93",
   "metadata": {
    "vscode": {
     "languageId": "javascript"
    }
   },
   "outputs": [
    {
     "data": {
      "application/javascript": "\nclass TennisPlayer {\n    constructor(name, rank, rankPoints) {\n        this.name = name;\n        this.rank = rank;\n        this.rankPoints = rankPoints;\n    }\n\n    profile() {\n        console.log(\"Hi my name is \" + this.name + \", my rank is \" + this.rank + \" and I have \" + this.rankPoints + \" ranking points.\");\n    }\n}\n\n// Create an instance of the class\nconst player1 = new TennisPlayer('Anika', 23, 2400);\n\n// Call the method\nplayer1.profile();\n",
      "text/plain": [
       "<IPython.core.display.Javascript object>"
      ]
     },
     "metadata": {},
     "output_type": "display_data"
    }
   ],
   "source": [
    "%%javascript\n",
    "\n",
    "class TennisPlayer {\n",
    "    constructor(name, rank, rankPoints) {\n",
    "        this.name = name;\n",
    "        this.rank = rank;\n",
    "        this.rankPoints = rankPoints;\n",
    "    }\n",
    "\n",
    "    profile() {\n",
    "        console.log(\"Hi my name is \" + this.name + \", my rank is \" + this.rank + \" and I have \" + this.rankPoints + \" ranking points.\");\n",
    "    }\n",
    "}\n",
    "\n",
    "// Create an instance of the class\n",
    "const player1 = new TennisPlayer('Anika', 23, 2400);\n",
    "\n",
    "// Call the method\n",
    "player1.profile();\n"
   ]
  },
  {
   "cell_type": "markdown",
   "id": "847cedc1",
   "metadata": {},
   "source": [
    "## Popcorn Hack 2\n",
    "\n",
    "1. Create a class called library\n",
    "2. Within library create a class called book with a constructors that allows the two methods - add book and remove book\n",
    "3. Add another inner class called computers - and have it output the number of computers on\n",
    "\n",
    "Below is the starter code to get you started"
   ]
  },
  {
   "cell_type": "code",
   "execution_count": 14,
   "id": "e7bad2b3",
   "metadata": {
    "vscode": {
     "languageId": "javascript"
    }
   },
   "outputs": [
    {
     "data": {
      "application/javascript": "\n// Step 1: Create the main class called Library\nclass Library {\n    constructor(name) {\n        this.name = name;\n        console.log(`Welcome to the {this.name} Library!`);\n    }\n}\n\n// Step 2: Create the inner \"Book\" class (as a static class)\nLibrary.Book = class {\n    constructor() {\n        this.books = [];\n    }\n\n    addBook(title) {\n        this.books.push(title);\n        console.log(`Added \"{title}\" to the library.`);\n    }\n\n    removeBook(title) {\n        const index = this.books.indexOf(title);\n        if (index > -1) {\n            this.books.splice(index, 1);\n            console.log(`Removed \"{title}\" from the library.`);\n        } else {\n            console.log(`\"{title}\" not found in the library.`);\n        }\n    }\n};\n\n// Step 3: Create another inner class called \"Computers\"\nLibrary.Computers = class {\n    constructor(computersOn) {\n        this.computersOn = computersOn;\n    }\n\n    showComputersOn() {\n        console.log(`There are currently {this.computersOn} computers on.`);\n    }\n};\n\n// --- Example Usage ---\nconst myLibrary = new Library(\"Dead Poets Society\");\nconst bookManager = new Library.Book();\nconst techRoom = new Library.Computers(8);\n\nbookManager.addBook(\"All The Light We Cannot See\");\nbookManager.addBook(\"Paper Towns\");\nbookManager.removeBook(\"All The Light We Cannot See\");\ntechRoom.showComputersOn();\n",
      "text/plain": [
       "<IPython.core.display.Javascript object>"
      ]
     },
     "metadata": {},
     "output_type": "display_data"
    }
   ],
   "source": [
    "%%javascript\n",
    "\n",
    "// Step 1: Create the main class called Library\n",
    "class Library {\n",
    "    constructor(name) {\n",
    "        this.name = name;\n",
    "        console.log(`Welcome to the {this.name} Library!`);\n",
    "    }\n",
    "}\n",
    "\n",
    "// Step 2: Create the inner \"Book\" class (as a static class)\n",
    "Library.Book = class {\n",
    "    constructor() {\n",
    "        this.books = [];\n",
    "    }\n",
    "\n",
    "    addBook(title) {\n",
    "        this.books.push(title);\n",
    "        console.log(`Added \"{title}\" to the library.`);\n",
    "    }\n",
    "\n",
    "    removeBook(title) {\n",
    "        const index = this.books.indexOf(title);\n",
    "        if (index > -1) {\n",
    "            this.books.splice(index, 1);\n",
    "            console.log(`Removed \"{title}\" from the library.`);\n",
    "        } else {\n",
    "            console.log(`\"{title}\" not found in the library.`);\n",
    "        }\n",
    "    }\n",
    "};\n",
    "\n",
    "// Step 3: Create another inner class called \"Computers\"\n",
    "Library.Computers = class {\n",
    "    constructor(computersOn) {\n",
    "        this.computersOn = computersOn;\n",
    "    }\n",
    "\n",
    "    showComputersOn() {\n",
    "        console.log(`There are currently {this.computersOn} computers on.`);\n",
    "    }\n",
    "};\n",
    "\n",
    "// --- Example Usage ---\n",
    "const myLibrary = new Library(\"Dead Poets Society\");\n",
    "const bookManager = new Library.Book();\n",
    "const techRoom = new Library.Computers(8);\n",
    "\n",
    "bookManager.addBook(\"All The Light We Cannot See\");\n",
    "bookManager.addBook(\"Paper Towns\");\n",
    "bookManager.removeBook(\"All The Light We Cannot See\");\n",
    "techRoom.showComputersOn();\n"
   ]
  },
  {
   "cell_type": "markdown",
   "id": "24d1fadb",
   "metadata": {},
   "source": [
    "## Homework\n",
    "Create and expand the Cookie Clicker project:\n",
    "1. Fill out the cookies and cookiesPerClick variables.\n",
    "2. Define what should happen upon clicking the cookie.\n",
    "3. Create an `Upgrade` class that multiplies cookies per click, and expand the original cookieclicker class to integrate upgardes.\n",
    "5. Print how each upgrade changes the total cookie output.\n",
    "6. Add a cookie type variable which sets the specific type of cookie (ex: Chocolate chip, Oatmeal, etc.)\n",
    "The following code is to help you get started.\n",
    "\n",
    "#### Extra credit: Up to 0.03 points\n",
    "- Create a new cell, apply the ALL of the above changes to a blank cookie clicker project, and submit that code for the cookie clicker project."
   ]
  },
  {
   "cell_type": "code",
   "execution_count": 16,
   "id": "e9c84d6f",
   "metadata": {
    "vscode": {
     "languageId": "javascript"
    }
   },
   "outputs": [
    {
     "data": {
      "application/javascript": "\n// Main CookieClicker class\nclass CookieClicker {\n  constructor(cookies, cookiesPerClick, cookieType) {\n    this.cookies = cookies; // start value\n    this.cookiesPerClick = cookiesPerClick;\n    this.cookieType = cookieType;\n  }\n\n  click() {\n    this.cookies += this.cookiesPerClick;\n    console.log(`You have {this.cookies} {this.cookieType} cookies.`);\n  }\n\n  // Method to apply an upgrade\n  applyUpgrade(upgrade) {\n    this.cookiesPerClick *= upgrade.multiplier;\n    console.log(\n      `Upgrade applied: {upgrade.name}! Cookies per click is now {this.cookiesPerClick}.`\n    );\n  }\n}\n\n// Upgrade class\nclass Upgrade {\n  constructor(name, multiplier) {\n    this.name = name;\n    this.multiplier = multiplier;\n  }\n}\n\n// --- Example Usage ---\n\n// Create a cookie clicker\nconst myClicker = new CookieClicker(0, 1, \"Chocolate Chip\");\n\n// Click a few times\nmyClicker.click();\nmyClicker.click();\n\n// Create upgrades\nconst goldenOven = new Upgrade(\"Golden Oven\", 2);\nconst magicMilk = new Upgrade(\"Magic Milk\", 3);\n\n// Apply upgrades\nmyClicker.applyUpgrade(goldenOven);\nmyClicker.click(); // should earn double now\n\nmyClicker.applyUpgrade(magicMilk);\nmyClicker.click(); // earns 6x now (2×3=6)\n",
      "text/plain": [
       "<IPython.core.display.Javascript object>"
      ]
     },
     "metadata": {},
     "output_type": "display_data"
    }
   ],
   "source": [
    "%%javascript\n",
    "\n",
    "// Main CookieClicker class\n",
    "class CookieClicker {\n",
    "  constructor(cookies, cookiesPerClick, cookieType) {\n",
    "    this.cookies = cookies; // start value\n",
    "    this.cookiesPerClick = cookiesPerClick;\n",
    "    this.cookieType = cookieType;\n",
    "  }\n",
    "\n",
    "  click() {\n",
    "    this.cookies += this.cookiesPerClick;\n",
    "    console.log(`You have {this.cookies} {this.cookieType} cookies.`);\n",
    "  }\n",
    "\n",
    "  // Method to apply an upgrade\n",
    "  applyUpgrade(upgrade) {\n",
    "    this.cookiesPerClick *= upgrade.multiplier;\n",
    "    console.log(\n",
    "      `Upgrade applied: {upgrade.name}! Cookies per click is now {this.cookiesPerClick}.`\n",
    "    );\n",
    "  }\n",
    "}\n",
    "\n",
    "// Upgrade class\n",
    "class Upgrade {\n",
    "  constructor(name, multiplier) {\n",
    "    this.name = name;\n",
    "    this.multiplier = multiplier;\n",
    "  }\n",
    "}\n",
    "\n",
    "// --- Example Usage ---\n",
    "\n",
    "// Create a cookie clicker\n",
    "const myClicker = new CookieClicker(0, 1, \"Chocolate Chip\");\n",
    "\n",
    "// Click a few times\n",
    "myClicker.click();\n",
    "myClicker.click();\n",
    "\n",
    "// Create upgrades\n",
    "const goldenOven = new Upgrade(\"Golden Oven\", 2);\n",
    "const magicMilk = new Upgrade(\"Magic Milk\", 3);\n",
    "\n",
    "// Apply upgrades\n",
    "myClicker.applyUpgrade(goldenOven);\n",
    "myClicker.click(); // should earn double now\n",
    "\n",
    "myClicker.applyUpgrade(magicMilk);\n",
    "myClicker.click(); // earns 6x now (2×3=6)\n"
   ]
  },
  {
   "cell_type": "markdown",
   "id": "0180a89f",
   "metadata": {},
   "source": [
    "This is where you will find homework: [Github Homework Link](https://github.com/Open-Coding-Society/pages/tree/main/_notebooks/CSSE/JavaScriptLessons/Classes_and_Methods)"
   ]
  }
 ],
 "metadata": {
  "kernelspec": {
   "display_name": "Python 3",
   "language": "python",
   "name": "python3"
  },
  "language_info": {
   "codemirror_mode": {
    "name": "ipython",
    "version": 3
   },
   "file_extension": ".py",
   "mimetype": "text/x-python",
   "name": "python",
   "nbconvert_exporter": "python",
   "pygments_lexer": "ipython3",
   "version": "3.12.3"
  }
 },
 "nbformat": 4,
 "nbformat_minor": 5
}
