{
 "cells": [
  {
   "cell_type": "code",
   "execution_count": null,
   "id": "e90135fa",
   "metadata": {},
   "outputs": [
    {
     "ename": "SyntaxError",
     "evalue": "invalid syntax (2695864968.py, line 1)",
     "output_type": "error",
     "traceback": [
      "\u001b[0;36m  Cell \u001b[0;32mIn[21], line 1\u001b[0;36m\u001b[0m\n\u001b[0;31m    ---\u001b[0m\n\u001b[0m       ^\u001b[0m\n\u001b[0;31mSyntaxError\u001b[0m\u001b[0;31m:\u001b[0m invalid syntax\n"
     ]
    }
   ],
   "source": [
    "---\n",
    "layout: post\n",
    "toc: true\n",
    "data: tools\n",
    "title: Varclasses\n",
    "description: Teaching Variables and Classes\n",
    "categories: ['JavaScript']\n",
    "permalink: /javascript/variablesclasses/inventors-hw\n",
    "breadcrumb: True\n",
    "---"
   ]
  },
  {
   "cell_type": "markdown",
   "id": "12325025",
   "metadata": {},
   "source": [
    "## POPCORN HACK 1 A short program about variables\n"
   ]
  },
  {
   "cell_type": "code",
   "execution_count": null,
   "id": "cd165c29",
   "metadata": {},
   "outputs": [
    {
     "data": {
      "application/javascript": "\nlet name = \"Anika\";\nlet age = 14;\n\n// Step 2: Print a message\nconsole.log(\"Hi, my name is\", name);\nconsole.log(\"I am\", age, \"years old.\");\n\n\n// Step 3: Unfinished part\n// TODO: Make a new variable called \"nextYearAge\"\n// that is the age plus 1\nlet NextYearAge = age + 1;\n\n// let nextYearAge = age + 1   // <-- finish this line!\n\n// TODO: Print out the result\n// Example: \"Next year I will be 11 years old.\"\nconsole.log(\"Next year, Ill be\" + NextYearAge + \"years old!\" )   // <-- finish this line!\n\n",
      "text/plain": [
       "<IPython.core.display.Javascript object>"
      ]
     },
     "metadata": {},
     "output_type": "display_data"
    }
   ],
   "source": [
    "%%javascript\n",
    "\n",
    "let name = \"Anika\";\n",
    "let age = 14;\n",
    "\n",
    "// Step 2: Print a message\n",
    "console.log(\"Hi, my name is\", name);\n",
    "console.log(\"I am\", age, \"years old.\");\n",
    "\n",
    "\n",
    "// Step 3: Unfinished part\n",
    "// TODO: Make a new variable called \"nextYearAge\"\n",
    "// that is the age plus 1\n",
    "let NextYearAge = age + 1;\n",
    "\n",
    "// let nextYearAge = age + 1   // <-- finish this line!\n",
    "\n",
    "// TODO: Print out the result\n",
    "// Example: \"Next year I will be 11 years old.\"\n",
    "console.log(\"Next year, Ill be\" + NextYearAge + \"years old!\" )   // <-- finish this line!\n",
    "\n"
   ]
  },
  {
   "cell_type": "markdown",
   "id": "8b9b8297",
   "metadata": {},
   "source": [
    "## POPCORN HACK 2 A short program about classes\n"
   ]
  },
  {
   "cell_type": "code",
   "execution_count": null,
   "id": "90501500",
   "metadata": {},
   "outputs": [
    {
     "data": {
      "application/javascript": "\n// Step 1: Define the Animal class\nclass Animal {\n  constructor(name, sound, kind) {\n    this.name = name;\n    this.sound = sound;\n    this.kind = kind;\n  }\n\n  // Make the animal speak\n  speak() {\n    console.log(this.name + \" the \" + this.kind + \" says \" + this.sound + \" !\");\n  }\n\n  // Bonus method: describe the animal\n  describe() {\n    console.log(this.name + \" is a \" + this.kind + \" and is not very nice!\");\n  }\n}\n\n// Step 2: Create a list to hold all the animals in the zoo\nlet zoo = [];\n\n// Step 3: Add animals to the zoo\nzoo.push(new Animal(\"Buddy\", \"Woof\", \"Dog\"));\nzoo.push(new Animal(\"Mittens\", \"Meow\", \"Cat\"));\nzoo.push(new Animal(\"Polly\", \"Squawk\", \"Parrot\"));\nzoo.push(new Animal(\"Pete\", \"moo\", \"cow\"));\n\n\n\n// Step 4: Loop through all animals and make them speak\nzoo.forEach(animal => {\n  animal.speak();\n  animal.describe();\n});\n",
      "text/plain": [
       "<IPython.core.display.Javascript object>"
      ]
     },
     "metadata": {},
     "output_type": "display_data"
    }
   ],
   "source": [
    "%%javascript\n",
    "\n",
    "// Step 1: Define the Animal class\n",
    "class Animal {\n",
    "  constructor(name, sound, kind) {\n",
    "    this.name = name;\n",
    "    this.sound = sound;\n",
    "    this.kind = kind;\n",
    "  }\n",
    "\n",
    "  // Make the animal speak\n",
    "  speak() {\n",
    "    console.log(this.name + \" the \" + this.kind + \" says \" + this.sound + \" !\");\n",
    "  }\n",
    "\n",
    "  // Bonus method: describe the animal\n",
    "  describe() {\n",
    "    console.log(this.name + \" is a \" + this.kind + \" and is not very nice!\");\n",
    "  }\n",
    "}\n",
    "\n",
    "// Step 2: Create a list to hold all the animals in the zoo\n",
    "let zoo = [];\n",
    "\n",
    "// Step 3: Add animals to the zoo\n",
    "zoo.push(new Animal(\"Buddy\", \"Woof\", \"Dog\"));\n",
    "zoo.push(new Animal(\"Mittens\", \"Meow\", \"Cat\"));\n",
    "zoo.push(new Animal(\"Polly\", \"Squawk\", \"Parrot\"));\n",
    "zoo.push(new Animal(\"Pete\", \"moo\", \"cow\"));\n",
    "\n",
    "\n",
    "\n",
    "// Step 4: Loop through all animals and make them speak\n",
    "zoo.forEach(animal => {\n",
    "  animal.speak();\n",
    "  animal.describe();\n",
    "});\n"
   ]
  },
  {
   "cell_type": "markdown",
   "id": "efc35c8b",
   "metadata": {},
   "source": [
    "## Homework"
   ]
  },
  {
   "cell_type": "code",
   "execution_count": null,
   "id": "c47afda8",
   "metadata": {},
   "outputs": [
    {
     "data": {
      "application/javascript": "\n## Step 1: Make a list of choices\nconst_choices = [\"rock\", \"paper\", \"scissors\"];\n\n## Step 2: Ask the user for their choice (browser version with prompt)\nlet_userChoice = prompt(\"Choose rock, paper, or scissors:\").toLowerCase();\n\n## Step 3: Computer picks a random choice\nconst_computerChoice = choices[Math.floor(Math.random() * choices.length)];\nconsole.log(\"Computer chose:\", computerChoice);\n\n## Step 4: Compare userChoice and computerChoice\nif (userChoice == computerChoice) {\n  console.log(\"It's a tie!\");\n} else if (userChoice === \"rock\" && computerChoice === \"scissors\") {\n  console.log(\"You win!\");\n} else if (userChoice === \"scissors\" && computerChoice === \"paper\") {\n  console.log(\"You win!\");\n} else if (userChoice === \"paper\" && computerChoice === \"rock\") {\n  console.log(\"You win!\");\n} else {\n  console.log(\"You lose!\");\n}\n\n## Bonus\n/*\nwhile (true) {\n  let userChoice = prompt(\"Choose rock, paper, or scissors”)\n}\n",
      "text/plain": [
       "<IPython.core.display.Javascript object>"
      ]
     },
     "metadata": {},
     "output_type": "display_data"
    }
   ],
   "source": [
    "%%javascript\n",
    "\n",
    "## Step 1: Make a list of choices\n",
    "const_choices = [\"rock\", \"paper\", \"scissors\"];\n",
    "\n",
    "## Step 2: Ask the user for their choice (browser version with prompt)\n",
    "let_userChoice = prompt(\"Choose rock, paper, or scissors:\").toLowerCase();\n",
    "\n",
    "## Step 3: Computer picks a random choice\n",
    "const_computerChoice = choices[Math.floor(Math.random() * choices.length)];\n",
    "console.log(\"Computer chose:\", computerChoice);\n",
    "\n",
    "## Step 4: Compare userChoice and computerChoice\n",
    "if (userChoice == computerChoice) {\n",
    "  console.log(\"It's a tie!\");\n",
    "} else if (userChoice === \"rock\" && computerChoice === \"scissors\") {\n",
    "  console.log(\"You win!\");\n",
    "} else if (userChoice === \"scissors\" && computerChoice === \"paper\") {\n",
    "  console.log(\"You win!\");\n",
    "} else if (userChoice === \"paper\" && computerChoice === \"rock\") {\n",
    "  console.log(\"You win!\");\n",
    "} else {\n",
    "  console.log(\"You lose!\");\n",
    "}\n",
    "\n",
    "## Bonus\n",
    "/*\n",
    "while (true) {\n",
    "  let userChoice = prompt(\"Choose rock, paper, or scissors”)\n",
    "}"
   ]
  },
  {
   "cell_type": "markdown",
   "id": "b0c99301",
   "metadata": {},
   "source": [
    "## Sumbmission!"
   ]
  }
 ],
 "metadata": {
  "kernelspec": {
   "display_name": "Python 3",
   "language": "python",
   "name": "python3"
  },
  "language_info": {
   "codemirror_mode": {
    "name": "ipython",
    "version": 3
   },
   "file_extension": ".py",
   "mimetype": "text/x-python",
   "name": "python",
   "nbconvert_exporter": "python",
   "pygments_lexer": "ipython3",
   "version": "3.12.3"
  }
 },
 "nbformat": 4,
 "nbformat_minor": 5
}
