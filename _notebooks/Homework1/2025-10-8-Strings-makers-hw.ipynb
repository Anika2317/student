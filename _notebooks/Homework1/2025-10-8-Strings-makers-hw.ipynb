{
 "cells": [
  {
   "cell_type": "raw",
   "id": "04560c95",
   "metadata": {
    "vscode": {
     "languageId": "raw"
    }
   },
   "source": [
    "---\n",
    "layout: post\n",
    "title: Strings Homework\n",
    "description:  Strings Homework\n",
    "categories: [Javascript, Homework]\n",
    "permalink: /strings-homework\n",
    "author: Makers\n",
    "---"
   ]
  },
  {
   "cell_type": "markdown",
   "id": "905d8e89",
   "metadata": {},
   "source": [
    "<hr>\n",
    "\n",
    "# JavaScript Strings Popcorn Hacks & Homework"
   ]
  },
  {
   "cell_type": "markdown",
   "id": "5914a247",
   "metadata": {},
   "source": [
    "## Popcorn Hack #1 - Secret Password"
   ]
  },
  {
   "cell_type": "markdown",
   "id": "98fb2838",
   "metadata": {},
   "source": [
    "### Instructions:\n",
    "\n",
    "1.\tCreate three string variables named secretBase, codeWord, and symbol.\n",
    "\t•\tEach should contain text inside quotes (\" \" or ' ').\n",
    "2.\tFind the number of characters in the secretBase string.\n",
    "\t•\tUse the .length property to count how many characters are in the string.\n",
    "\t•\tStore this value in a new variable called baseLength.\n",
    "3.\tChange all the letters in the codeWord string to uppercase.\n",
    "\t•\tUse the .toUpperCase() method and store the result in a variable named fullCode.\n",
    "4.\tCombine all the strings together to reveal the full secret message.\n",
    "\t•\tUse the + operator to concatenate secretBase, fullCode, and symbol.\n",
    "\t•\tSave it to a variable named fullSecret.\n",
    "5.\tPrint your results using console.log().\n",
    "\t•\tDisplay both the string length and the full secret message in the console."
   ]
  },
  {
   "cell_type": "code",
   "execution_count": null,
   "id": "d392cf50",
   "metadata": {
    "vscode": {
     "languageId": "javascript"
    }
   },
   "outputs": [],
   "source": [
    "%%javascript\n",
    "\n",
    "// Popcorn Hack #1 - Secret Password\n",
    "\n",
    "// Task 1: Create your variables\n",
    "let secretBase = \"anikasHQ\";\n",
    "let codeWord = \"amazingness\";\n",
    "let symbol = \"#007\";\n",
    "\n",
    "// Task 2: Find the number of characters in the first string.\n",
    "let baseLength = secretBase.length;\n",
    "\n",
    "// Task 3: Standardize the second string to all uppercase letters.\n",
    "let fullCode = codeWord.toUpperCase();\n",
    "\n",
    "// Task 4: Combine everything to reveal the full secret.\n",
    "let fullSecret = secretBase + fullCode + symbol;\n",
    "\n",
    "// Task 5: Print the results.\n",
    "console.log(\"Base Length:\");\n",
    "console.log(baseLength);\n",
    "\n",
    "console.log(\"Full Code:\");\n",
    "console.log(fullCode);\n",
    "\n",
    "console.log(\"Full Secret:\");\n",
    "console.log(fullSecret);\n"
   ]
  },
  {
   "cell_type": "markdown",
   "id": "2573df28",
   "metadata": {},
   "source": [
    "<hr>\n",
    "\n",
    "## Popcorn Hack #2 - Grocery Store"
   ]
  },
  {
   "cell_type": "markdown",
   "id": "264a65e7",
   "metadata": {},
   "source": [
    "### Instructions:\n",
    "\n",
    "1.\tDefine your variables and string values\n",
    "\t•\tEach should contain text inside quotes (\" \" or ' ').\n",
    "    •\tYour variables should include: `ingredient`, `price`, and `store`.\n",
    "2.\tWrite a message using template liberals.\n",
    "\t•\tUsing mlti-line strings and interpolation, create a complex sentence writing an automated message advertising a discounted item.\n",
    "\t•\tUse backticks!!\n",
    "3.\tUse interpolation to check the amount of characters in the lesson!\n",
    "\t•\tUse `${}` and `.length` to help.\n",
    "4.\tPrint your results using console.log().\n",
    "\t•\tDisplay both the string length and the full secret message in the console."
   ]
  },
  {
   "cell_type": "code",
   "execution_count": null,
   "id": "8c5ea064",
   "metadata": {
    "vscode": {
     "languageId": "javascript"
    }
   },
   "outputs": [],
   "source": [
    "%%javascript\n",
    "\n",
    "// Popcorn Hack #2 - Grocery Store\n",
    "\n",
    "// Task 1: Define your variables and strings\n",
    "let ingredient = \"amazing apples\"; \n",
    "let price = \"$17.23/ounce\";\n",
    "let store = \"store of food\";\n",
    "\n",
    "// Task 2: Write the complex sentence using a template literal (backticks).\n",
    "const snackMessage = `\n",
    "🍎 Special Deal Alert! 🍎\n",
    "\n",
    "There is a store called {store}, come and get {ingredient} but its {price}!\n",
    "Don’t miss out on this amazing deal.\n",
    "`;\n",
    "\n",
    "// Task 3. Check the length of the full message and print it to the console.\n",
    "console.log(`The full message is {snackMessage.length} characters long.`);\n",
    "console.log(snackMessage);\n"
   ]
  },
  {
   "cell_type": "markdown",
   "id": "2202b84e",
   "metadata": {},
   "source": [
    "<hr>\n",
    "\n",
    "# Homework\n",
    "\n",
    "Objective: Apply string concepts (const, quotes, .length, .toUpperCase(), and template literals) to format game data.\n",
    "\n",
    "## 🏷️ Part A - String Variables & Quotes\n",
    "Create a constant variable named `UPGRADE_NAME` and assign it the string value `\"Lucky Seven\"`. Print this variable to the console.\n",
    "\n",
    "Create a variable named `cost` and assign it the number value 7777. Print this number to the console.\n",
    "\n",
    "Create a variable named `EMOJI` and assign it the emoji string value \"🍀\". \n",
    "\n",
    "Create a variable named `BUTTON_CLASS` and assign it the string value: bg-green-500 hover:bg-green-600 text-white. \n",
    "\n",
    "## 📏 Part B – Length and Modification\n",
    "Using the `UPGRADE_NAME` variable from above, create a new constant variable named `DISPLAY_NAME` that converts the name to all uppercase letters. Print `DISPLAY_NAME`.\n",
    "\n",
    "Create a constant variable named `NAME_LENGTH` that stores the total number of characters (including spaces) in the original `UPGRADE_NAME`. Print the length to the console with a label like: \"Name Character Count: [Count]\".\n",
    "\n",
    "Create a variable named message that stores the exact string below. \n",
    "\n",
    "\"Insufficient Cookies\"\n",
    "\n",
    "## ✨ Part C – Template Literal Interpolation\n",
    "Use string concatenation (the + sign) to combine the EMOJI, UPGRADE_NAME, and cost variables into the following exact output. Print the result.\n",
    "Challenge (extra credit): Use String Interpolation \n",
    "\n",
    "🍀 Lucky Seven (7777 Cookies)\n",
    "Now, rewrite the entire message from problem 8 using a template literal (backticks `) and interpolation (${}). Store the result in a new variable called shopButtonText. Print shopButtonText.\n",
    "\n",
    "The Final Message: Create a constant variable named errorDisplay that uses a template literal to combine the following three variables into one clean message: EMOJI, UPGRADE_NAME, and message.\n",
    "\n",
    "Error: 🍀 Lucky Seven purchase failed: \"Insufficient Cookies\"\n",
    "Hint: The quote marks around Insufficient Cookies must be part of the final output string.\n",
    "\n",
    "\n",
    "🌟 Extra Credit Challenge (Optional)\n",
    "Create a variable named `HINT_TEXT` that stores the following exact quote:\n",
    "The \"Lucky Seven\" upgrade multiplies your clicks by 7.\n"
   ]
  },
  {
   "cell_type": "code",
   "execution_count": null,
   "id": "37d36636",
   "metadata": {
    "vscode": {
     "languageId": "javascript"
    }
   },
   "outputs": [],
   "source": [
    "%%javascript\n",
    "\n",
    "// --- JavaScript Homework (All in One Cell) ---\n",
    "\n",
    "//  Part A - String Variables & Quotes\n",
    "const UPGRADE_NAME = \"Lucky Seven\";\n",
    "console.log(\"UPGRADE_NAME:\", UPGRADE_NAME);\n",
    "\n",
    "let cost = 7777;\n",
    "console.log(\"Cost:\", cost);\n",
    "\n",
    "let EMOJI = \"🍀\";\n",
    "let BUTTON_CLASS = \"bg-green-500 hover:bg-green-600 text-white\";\n",
    "console.log(\"BUTTON_CLASS:\", BUTTON_CLASS);\n",
    "\n",
    "//  Part B – Length and Modification\n",
    "const DISPLAY_NAME = UPGRADE_NAME.toUpperCase();\n",
    "console.log(\"DISPLAY_NAME:\", DISPLAY_NAME);\n",
    "\n",
    "const NAME_LENGTH = UPGRADE_NAME.length;\n",
    "console.log(\"Name Character Count:\", NAME_LENGTH);\n",
    "\n",
    "let message = \"Insufficient Cookies\";\n",
    "console.log(\"Message:\", message);\n",
    "\n",
    "//  Part C – Template Literal Interpolation\n",
    "// 1. Using string concatenation\n",
    "let legacyOutput = EMOJI + \" \" + UPGRADE_NAME + \" (\" + cost + \" Cookies)\";\n",
    "console.log(\"Legacy Output:\", legacyOutput);\n",
    "\n",
    "// 2. Using template literal\n",
    "let shopButtonText = `{EMOJI} {UPGRADE_NAME} ({cost} Cookies)`;\n",
    "console.log(\"Shop Button Text:\", shopButtonText);\n",
    "\n",
    "// 3. Final error message with quote marks included\n",
    "const errorDisplay = `Error: {EMOJI} {UPGRADE_NAME} purchase failed: \"{message}\"`;\n",
    "console.log(\"Error Display:\", errorDisplay);\n",
    "\n",
    "//  Extra Credit Challenge\n",
    "let HINT_TEXT = 'The \"Lucky Seven\" upgrade multiplies your clicks by 7.';\n",
    "console.log(\"Hint Text:\", HINT_TEXT);\n"
   ]
  }
 ],
 "metadata": {
  "language_info": {
   "name": "python"
  }
 },
 "nbformat": 4,
 "nbformat_minor": 5
}
